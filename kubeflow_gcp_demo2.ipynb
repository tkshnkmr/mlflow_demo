{
 "cells": [
  {
   "cell_type": "markdown",
   "id": "879a2a4e-456c-4894-8f91-5afad4e96892",
   "metadata": {},
   "source": [
    "## A simple ML pipeline demo"
   ]
  },
  {
   "cell_type": "markdown",
   "id": "57882869-f55d-4a03-94d4-e6445bae624f",
   "metadata": {},
   "source": [
    "### 0. Save the data on bucket"
   ]
  },
  {
   "cell_type": "code",
   "execution_count": 1,
   "id": "37e9a77f-21b3-4401-b26f-77115de7e5a7",
   "metadata": {
    "tags": []
   },
   "outputs": [],
   "source": [
    "import os\n",
    "import google.cloud.storage as storage"
   ]
  },
  {
   "cell_type": "code",
   "execution_count": 2,
   "id": "36ad2d39-e19a-417d-973a-cabb3e8a723a",
   "metadata": {},
   "outputs": [],
   "source": [
    "# NOTE: it's not the best practice\n",
    "os.environ[\"GOOGLE_APPLICATION_CREDENTIALS\"] = \"\"  # Your service credentials (assume json)\n",
    "PROJECT_ID = \"\"  # Your project id\n",
    "SERVICE_ACCOUNT = \"\"  # assume XXXX@YYYYY.iam.gserviceaccount.com"
   ]
  },
  {
   "cell_type": "code",
   "execution_count": 3,
   "id": "8f6373ea-67a4-4d32-ae9e-04b5d3dd7562",
   "metadata": {},
   "outputs": [],
   "source": []
  },
  {
   "cell_type": "code",
   "execution_count": 7,
   "id": "58ca1d2a-ff0e-4721-b957-0ca8fdb27c5b",
   "metadata": {
    "tags": []
   },
   "outputs": [],
   "source": [
    "# Instantiates a client\n",
    "storage_client = storage.Client()\n",
    "\n",
    "bucket = storage_client.bucket(CSV_FILE_BUCKET_NAME)\n",
    "\n",
    "# Creates the new bucket\n",
    "# bucket = storage_client.create_bucket(CSV_FILE_BUCKET_NAME)\n",
    "\n",
    "FILE_DIR = \"house-prices-advanced-regression-techniques\"\n",
    "csv_files_in_dir = [x for x in os.listdir(FILE_DIR) if x.split(\".\")[-1] == \"csv\"]\n",
    "\n",
    "for file in csv_files_in_dir:\n",
    "    blob = bucket.blob(blob_name=file)\n",
    "    blob.upload_from_filename(filename=f\"{FILE_DIR}/{file}\")"
   ]
  },
  {
   "cell_type": "markdown",
   "id": "4779b8e1-3c8d-48bb-8adb-485128e9e441",
   "metadata": {},
   "source": [
    "### Import package"
   ]
  },
  {
   "cell_type": "code",
   "execution_count": 90,
   "id": "9a03890e-9dd7-4c2f-99f2-c608dfbb06f6",
   "metadata": {
    "tags": []
   },
   "outputs": [],
   "source": [
    "import os\n",
    "from typing import NamedTuple\n",
    "from datetime import datetime\n",
    "\n",
    "import google.cloud.aiplatform as aiplatform\n",
    "\n",
    "from kfp.v2.dsl import pipeline\n",
    "from kfp.v2.dsl import component\n",
    "from kfp.v2.dsl import OutputPath\n",
    "from kfp.v2.dsl import InputPath\n",
    "from kfp.v2.dsl import Model\n",
    "from kfp.v2.dsl import Input\n",
    "from kfp.v2.dsl import Artifact\n",
    "from kfp.v2.dsl import Output\n",
    "from kfp.v2.dsl import Metrics\n",
    "from kfp.v2.dsl import Dataset\n",
    "from kfp.v2 import compiler\n",
    "from kfp.v2.google.client import AIPlatformClient"
   ]
  },
  {
   "cell_type": "markdown",
   "id": "8e1edb5a-373d-4c65-9137-e6c817942d60",
   "metadata": {
    "tags": []
   },
   "source": [
    "### Parameters for GCP and kubeflow"
   ]
  },
  {
   "cell_type": "code",
   "execution_count": 40,
   "id": "1e2fb8db-ebf1-4c67-90f4-81395ae68aa3",
   "metadata": {
    "tags": []
   },
   "outputs": [],
   "source": [
    "ENABLE_CACHING = False\n",
    "\n",
    "PIPELINE_NAME = \"my-kfp-on-gcp-demo2\"\n",
    "# Your Kubeflow's detail\n",
    "TEMPLATE_PATH = \"ml_pipeline_2.json\"\n",
    "# GCS Bucket to store artefacts\n",
    "PIPELINE_ROOT = f\"gs://kfp-demo-bucket-{PROJECT_ID}\"\n",
    "\n",
    "TIMESTAMP = datetime.now().strftime(\"%Y%m%d%H%M%S\")\n",
    "\n",
    "JOBID = f\"training-pipeline-{TIMESTAMP}\"\n",
    "\n",
    "# Parameters for ML\n",
    "DATASET_ID = \"sklearn_default_housing\"\n",
    "TABLE_ID = \"NA\"\n",
    "COL_LABEL = \"MedHouseVal\"\n",
    "COL_TRAINING = [\"some_list\"]\n",
    "\n",
    "GCP_BUCKET = \"google-cloud-storage==1.43.0\"\n",
    "PANDAS = \"pandas==1.5.3\"\n",
    "PYTHON_BASE = \"python:3.10\"\n",
    "SKLEARN = \"scikit-learn==1.2.2\"\n",
    "NUMPY = \"numpy==1.23.5\""
   ]
  },
  {
   "cell_type": "markdown",
   "id": "cd4357bc-c154-4c03-837e-88b94a441492",
   "metadata": {
    "tags": []
   },
   "source": [
    "### 1. Preprocess the data"
   ]
  },
  {
   "cell_type": "code",
   "execution_count": 17,
   "id": "28511637-c3a9-42d0-9804-68a23ba63a43",
   "metadata": {
    "tags": []
   },
   "outputs": [],
   "source": [
    "import pandas as pd\n",
    "import io \n",
    "\n",
    "original_bucket_id = CSV_FILE_BUCKET_NAME\n",
    "target_filename = \"train.csv\"\n",
    "\n",
    "# Instantiates a client\n",
    "storage_client = storage.Client()\n",
    "bucket = storage_client.bucket(original_bucket_id)\n",
    "\n",
    "# Download csv file     \n",
    "blob = bucket.blob(target_filename)\n",
    "data = blob.download_as_string()\n",
    "df = pd.read_csv(io.BytesIO(data))\n",
    "    "
   ]
  },
  {
   "cell_type": "code",
   "execution_count": 18,
   "id": "07e99b87-275c-41f1-87a4-cede11f298eb",
   "metadata": {
    "tags": []
   },
   "outputs": [
    {
     "data": {
      "text/html": [
       "<div>\n",
       "<style scoped>\n",
       "    .dataframe tbody tr th:only-of-type {\n",
       "        vertical-align: middle;\n",
       "    }\n",
       "\n",
       "    .dataframe tbody tr th {\n",
       "        vertical-align: top;\n",
       "    }\n",
       "\n",
       "    .dataframe thead th {\n",
       "        text-align: right;\n",
       "    }\n",
       "</style>\n",
       "<table border=\"1\" class=\"dataframe\">\n",
       "  <thead>\n",
       "    <tr style=\"text-align: right;\">\n",
       "      <th></th>\n",
       "      <th>Id</th>\n",
       "      <th>MSSubClass</th>\n",
       "      <th>MSZoning</th>\n",
       "      <th>LotFrontage</th>\n",
       "      <th>LotArea</th>\n",
       "      <th>Street</th>\n",
       "      <th>Alley</th>\n",
       "      <th>LotShape</th>\n",
       "      <th>LandContour</th>\n",
       "      <th>Utilities</th>\n",
       "      <th>...</th>\n",
       "      <th>PoolArea</th>\n",
       "      <th>PoolQC</th>\n",
       "      <th>Fence</th>\n",
       "      <th>MiscFeature</th>\n",
       "      <th>MiscVal</th>\n",
       "      <th>MoSold</th>\n",
       "      <th>YrSold</th>\n",
       "      <th>SaleType</th>\n",
       "      <th>SaleCondition</th>\n",
       "      <th>SalePrice</th>\n",
       "    </tr>\n",
       "  </thead>\n",
       "  <tbody>\n",
       "    <tr>\n",
       "      <th>0</th>\n",
       "      <td>1</td>\n",
       "      <td>60</td>\n",
       "      <td>RL</td>\n",
       "      <td>65.0</td>\n",
       "      <td>8450</td>\n",
       "      <td>Pave</td>\n",
       "      <td>NaN</td>\n",
       "      <td>Reg</td>\n",
       "      <td>Lvl</td>\n",
       "      <td>AllPub</td>\n",
       "      <td>...</td>\n",
       "      <td>0</td>\n",
       "      <td>NaN</td>\n",
       "      <td>NaN</td>\n",
       "      <td>NaN</td>\n",
       "      <td>0</td>\n",
       "      <td>2</td>\n",
       "      <td>2008</td>\n",
       "      <td>WD</td>\n",
       "      <td>Normal</td>\n",
       "      <td>208500</td>\n",
       "    </tr>\n",
       "    <tr>\n",
       "      <th>1</th>\n",
       "      <td>2</td>\n",
       "      <td>20</td>\n",
       "      <td>RL</td>\n",
       "      <td>80.0</td>\n",
       "      <td>9600</td>\n",
       "      <td>Pave</td>\n",
       "      <td>NaN</td>\n",
       "      <td>Reg</td>\n",
       "      <td>Lvl</td>\n",
       "      <td>AllPub</td>\n",
       "      <td>...</td>\n",
       "      <td>0</td>\n",
       "      <td>NaN</td>\n",
       "      <td>NaN</td>\n",
       "      <td>NaN</td>\n",
       "      <td>0</td>\n",
       "      <td>5</td>\n",
       "      <td>2007</td>\n",
       "      <td>WD</td>\n",
       "      <td>Normal</td>\n",
       "      <td>181500</td>\n",
       "    </tr>\n",
       "    <tr>\n",
       "      <th>2</th>\n",
       "      <td>3</td>\n",
       "      <td>60</td>\n",
       "      <td>RL</td>\n",
       "      <td>68.0</td>\n",
       "      <td>11250</td>\n",
       "      <td>Pave</td>\n",
       "      <td>NaN</td>\n",
       "      <td>IR1</td>\n",
       "      <td>Lvl</td>\n",
       "      <td>AllPub</td>\n",
       "      <td>...</td>\n",
       "      <td>0</td>\n",
       "      <td>NaN</td>\n",
       "      <td>NaN</td>\n",
       "      <td>NaN</td>\n",
       "      <td>0</td>\n",
       "      <td>9</td>\n",
       "      <td>2008</td>\n",
       "      <td>WD</td>\n",
       "      <td>Normal</td>\n",
       "      <td>223500</td>\n",
       "    </tr>\n",
       "    <tr>\n",
       "      <th>3</th>\n",
       "      <td>4</td>\n",
       "      <td>70</td>\n",
       "      <td>RL</td>\n",
       "      <td>60.0</td>\n",
       "      <td>9550</td>\n",
       "      <td>Pave</td>\n",
       "      <td>NaN</td>\n",
       "      <td>IR1</td>\n",
       "      <td>Lvl</td>\n",
       "      <td>AllPub</td>\n",
       "      <td>...</td>\n",
       "      <td>0</td>\n",
       "      <td>NaN</td>\n",
       "      <td>NaN</td>\n",
       "      <td>NaN</td>\n",
       "      <td>0</td>\n",
       "      <td>2</td>\n",
       "      <td>2006</td>\n",
       "      <td>WD</td>\n",
       "      <td>Abnorml</td>\n",
       "      <td>140000</td>\n",
       "    </tr>\n",
       "    <tr>\n",
       "      <th>4</th>\n",
       "      <td>5</td>\n",
       "      <td>60</td>\n",
       "      <td>RL</td>\n",
       "      <td>84.0</td>\n",
       "      <td>14260</td>\n",
       "      <td>Pave</td>\n",
       "      <td>NaN</td>\n",
       "      <td>IR1</td>\n",
       "      <td>Lvl</td>\n",
       "      <td>AllPub</td>\n",
       "      <td>...</td>\n",
       "      <td>0</td>\n",
       "      <td>NaN</td>\n",
       "      <td>NaN</td>\n",
       "      <td>NaN</td>\n",
       "      <td>0</td>\n",
       "      <td>12</td>\n",
       "      <td>2008</td>\n",
       "      <td>WD</td>\n",
       "      <td>Normal</td>\n",
       "      <td>250000</td>\n",
       "    </tr>\n",
       "  </tbody>\n",
       "</table>\n",
       "<p>5 rows × 81 columns</p>\n",
       "</div>"
      ],
      "text/plain": [
       "   Id  MSSubClass MSZoning  LotFrontage  LotArea Street Alley LotShape  \\\n",
       "0   1          60       RL         65.0     8450   Pave   NaN      Reg   \n",
       "1   2          20       RL         80.0     9600   Pave   NaN      Reg   \n",
       "2   3          60       RL         68.0    11250   Pave   NaN      IR1   \n",
       "3   4          70       RL         60.0     9550   Pave   NaN      IR1   \n",
       "4   5          60       RL         84.0    14260   Pave   NaN      IR1   \n",
       "\n",
       "  LandContour Utilities  ... PoolArea PoolQC Fence MiscFeature MiscVal MoSold  \\\n",
       "0         Lvl    AllPub  ...        0    NaN   NaN         NaN       0      2   \n",
       "1         Lvl    AllPub  ...        0    NaN   NaN         NaN       0      5   \n",
       "2         Lvl    AllPub  ...        0    NaN   NaN         NaN       0      9   \n",
       "3         Lvl    AllPub  ...        0    NaN   NaN         NaN       0      2   \n",
       "4         Lvl    AllPub  ...        0    NaN   NaN         NaN       0     12   \n",
       "\n",
       "  YrSold  SaleType  SaleCondition  SalePrice  \n",
       "0   2008        WD         Normal     208500  \n",
       "1   2007        WD         Normal     181500  \n",
       "2   2008        WD         Normal     223500  \n",
       "3   2006        WD        Abnorml     140000  \n",
       "4   2008        WD         Normal     250000  \n",
       "\n",
       "[5 rows x 81 columns]"
      ]
     },
     "execution_count": 18,
     "metadata": {},
     "output_type": "execute_result"
    }
   ],
   "source": [
    "df.head()"
   ]
  },
  {
   "cell_type": "code",
   "execution_count": 60,
   "id": "60a0049d-aa4a-4350-b521-8984918e43e8",
   "metadata": {
    "tags": []
   },
   "outputs": [
    {
     "data": {
      "text/plain": [
       "Index(['Id', 'MSSubClass', 'MSZoning', 'LotFrontage', 'LotArea', 'Street',\n",
       "       'Alley', 'LotShape', 'LandContour', 'Utilities', 'LotConfig',\n",
       "       'LandSlope', 'Neighborhood', 'Condition1', 'Condition2', 'BldgType',\n",
       "       'HouseStyle', 'OverallQual', 'OverallCond', 'YearBuilt', 'YearRemodAdd',\n",
       "       'RoofStyle', 'RoofMatl', 'Exterior1st', 'Exterior2nd', 'MasVnrType',\n",
       "       'MasVnrArea', 'ExterQual', 'ExterCond', 'Foundation', 'BsmtQual',\n",
       "       'BsmtCond', 'BsmtExposure', 'BsmtFinType1', 'BsmtFinSF1',\n",
       "       'BsmtFinType2', 'BsmtFinSF2', 'BsmtUnfSF', 'TotalBsmtSF', 'Heating',\n",
       "       'HeatingQC', 'CentralAir', 'Electrical', '1stFlrSF', '2ndFlrSF',\n",
       "       'LowQualFinSF', 'GrLivArea', 'BsmtFullBath', 'BsmtHalfBath', 'FullBath',\n",
       "       'HalfBath', 'BedroomAbvGr', 'KitchenAbvGr', 'KitchenQual',\n",
       "       'TotRmsAbvGrd', 'Functional', 'Fireplaces', 'FireplaceQu', 'GarageType',\n",
       "       'GarageYrBlt', 'GarageFinish', 'GarageCars', 'GarageArea', 'GarageQual',\n",
       "       'GarageCond', 'PavedDrive', 'WoodDeckSF', 'OpenPorchSF',\n",
       "       'EnclosedPorch', '3SsnPorch', 'ScreenPorch', 'PoolArea', 'PoolQC',\n",
       "       'Fence', 'MiscFeature', 'MiscVal', 'MoSold', 'YrSold', 'SaleType',\n",
       "       'SaleCondition', 'SalePrice'],\n",
       "      dtype='object')"
      ]
     },
     "execution_count": 60,
     "metadata": {},
     "output_type": "execute_result"
    }
   ],
   "source": [
    "df.columns"
   ]
  },
  {
   "cell_type": "code",
   "execution_count": 95,
   "id": "a0cd5901-4680-402b-93e4-d7a956d07dbe",
   "metadata": {
    "tags": []
   },
   "outputs": [],
   "source": [
    "TARGET_LABEL = 'SalePrice'\n",
    "TARGET_FEATURES = ['OverallQual', \n",
    "                   'GrLivArea', \n",
    "                   'GarageCars', \n",
    "                   'GarageArea',\n",
    "                   'TotalBsmtSF', \n",
    "                   '1stFlrSF', \n",
    "                   'FullBath', \n",
    "                   'TotRmsAbvGrd', \n",
    "                   'YearBuilt',\n",
    "                   \"BsmtUnfSF_TotalBsmtSF_ratio\"]"
   ]
  },
  {
   "cell_type": "code",
   "execution_count": 96,
   "id": "5f9d90bd-3fee-47d9-9a00-e4fe6f0e1eae",
   "metadata": {
    "tags": []
   },
   "outputs": [],
   "source": [
    "df_mod = df[TARGET_FEATURES]\n",
    "assert df_mod.isna().sum().sum() == 0  # not the best practice"
   ]
  },
  {
   "cell_type": "code",
   "execution_count": 97,
   "id": "bec6bbb4-83d0-4b78-9b6b-e94ba773bba5",
   "metadata": {
    "tags": []
   },
   "outputs": [],
   "source": [
    "@component(base_image=PYTHON_BASE, packages_to_install=[PANDAS, GCP_BUCKET])\n",
    "def preprocess_my_data(\n",
    "    project_id: str,\n",
    "    original_bucket_id: str,\n",
    "    ml_bucket_id: str,\n",
    "    target_filename: str,\n",
    "    output_dataset: Output[Dataset]) -> None:\n",
    "    \"\"\"\n",
    "    Some preprocessing\n",
    "    \"\"\"\n",
    "    import pandas as pd\n",
    "    import io\n",
    "    import google.cloud.storage as storage\n",
    "    \n",
    "    \n",
    "    # =============================== \n",
    "    #  Collect data from storage\n",
    "    # =============================== \n",
    "    # Instantiates a client\n",
    "    storage_client = storage.Client()\n",
    "    bucket = storage_client.bucket(original_bucket_id)\n",
    "\n",
    "    # Download csv file from GCS\n",
    "    blob = bucket.blob(target_filename)  # train.csv or test.csv\n",
    "    data = blob.download_as_string()\n",
    "    df = pd.read_csv(io.BytesIO(data))\n",
    "    \n",
    "    # =============================== \n",
    "    #  Some feature engineering\n",
    "    #  1. Mean fill + creating ratio     \n",
    "    # =============================== \n",
    "    # Get mean value for the target column\n",
    "    mean_target_col = df[\"TotalBsmtSF\"].mean()\n",
    "    # Replace 0 value to mean\n",
    "    df[\"TotalBsmtSF_fillmean\"] = df[\"TotalBsmtSF\"].replace(0, mean_target_col)\n",
    "    # Get mean value for the target column\n",
    "    mean_target_col = df[\"BsmtUnfSF\"].mean()\n",
    "    # Replace 0 value to mean\n",
    "    df[\"BsmtUnfSF_fillmean\"] = df[\"BsmtUnfSF\"].replace(0, mean_target_col)\n",
    "    df[\"BsmtUnfSF_TotalBsmtSF_ratio\"] = df[\"BsmtUnfSF_fillmean\"] / df[\"TotalBsmtSF_fillmean\"]    \n",
    "\n",
    "    # Create an output\n",
    "    df.to_csv(output_dataset.path, index=False, header=True)"
   ]
  },
  {
   "cell_type": "code",
   "execution_count": 98,
   "id": "fd5f9375-0eb6-4167-9e57-f448bfd8e319",
   "metadata": {
    "tags": []
   },
   "outputs": [],
   "source": [
    "@component(\n",
    "    base_image=PYTHON_BASE,\n",
    "    packages_to_install=[\n",
    "        PANDAS,\n",
    "        SKLEARN,\n",
    "        NUMPY,\n",
    "    ],\n",
    ")\n",
    "def train_my_ml_model(\n",
    "    input_dataset: Input[Dataset], \n",
    "    datasplit_seed: int, \n",
    "    selected_features: list, \n",
    "    selected_label: str, \n",
    "    eval_metrics: Output[Metrics],\n",
    ") -> NamedTuple(\n",
    "    \"Outputs\", [(\"val_mse\", float), (\"val_mae\", float)]\n",
    "):\n",
    "    \"\"\"\n",
    "    Some training\n",
    "    \"\"\"\n",
    "    from sklearn.model_selection import train_test_split\n",
    "    from sklearn.metrics import mean_absolute_error, mean_squared_error\n",
    "    import numpy as np\n",
    "    from sklearn.linear_model import ElasticNet\n",
    "    import pandas as pd\n",
    "    import json\n",
    "\n",
    "    df = pd.read_csv(input_dataset.path)\n",
    "\n",
    "    # Split Features and Labels\n",
    "    X = df[selected_features]\n",
    "    assert X.isna().sum().sum() == 0  # not the best practice\n",
    "    y = df[selected_label]\n",
    "\n",
    "    # Split the data for train (80%) and validation (20%)\n",
    "    X_train, X_val, y_train, y_val = train_test_split(\n",
    "        X, y, test_size=0.2, random_state=datasplit_seed\n",
    "    )\n",
    "\n",
    "    # Train the model     \n",
    "    elastic_net_reg = ElasticNet(alpha=0.5, l1_ratio=0.5, random_state=42)\n",
    "    elastic_net_reg.fit(X_train, y_train)\n",
    "    \n",
    "    # Get the trained model performance with validation data     \n",
    "    y_val_pred = elastic_net_reg.predict(X_val)\n",
    "    val_mse = mean_absolute_error(y_val, y_val_pred)\n",
    "    val_mae = mean_squared_error(y_val, y_val_pred)\n",
    "    metrics_dict = {\"val_mse\": val_mse, \"val_mae\": val_mae}\n",
    "    \n",
    "    # dumping metrics_dict\n",
    "    with open(eval_metrics.path, \"w\") as f:\n",
    "        json.dump(metrics_dict, f)\n",
    "    \n",
    "    # Save the model    \n",
    "\n",
    "    return (val_mse, val_mae)"
   ]
  },
  {
   "cell_type": "code",
   "execution_count": 101,
   "id": "ea82c109-ab47-43c5-9515-15a375e1aba9",
   "metadata": {
    "tags": []
   },
   "outputs": [],
   "source": [
    "# Define a pipeline and create a task from a component:\n",
    "@pipeline(name=PIPELINE_NAME, pipeline_root=PIPELINE_ROOT)\n",
    "def tmp_pipe(\n",
    "    project_id: str,\n",
    "    original_bucket_id: str,\n",
    "    ml_bucket_id: str,\n",
    "    target_train_filename: str,\n",
    "    target_test_filename: str,\n",
    "    datasplit_seed: int,\n",
    "    selected_features: list, \n",
    "    selected_label: str,\n",
    "    \n",
    "):\n",
    "    train_preprocess = preprocess_my_data(project_id=project_id, \n",
    "                             original_bucket_id=original_bucket_id,\n",
    "                             ml_bucket_id=ml_bucket_id,\n",
    "                             target_filename=target_train_filename,).set_display_name(\"Preprocess train data\")\n",
    "    \n",
    "    test_preprocess = preprocess_my_data(project_id=project_id, \n",
    "                             original_bucket_id=original_bucket_id,\n",
    "                             ml_bucket_id=ml_bucket_id,\n",
    "                             target_filename=target_test_filename,).set_display_name(\"Preprocess test data\")\n",
    "    \n",
    "    train_model = train_my_ml_model(\n",
    "        input_dataset=train_preprocess.outputs['output_dataset'], \n",
    "        datasplit_seed=datasplit_seed,\n",
    "        selected_features=selected_features,\n",
    "        selected_label=selected_label,\n",
    "    )"
   ]
  },
  {
   "cell_type": "code",
   "execution_count": 102,
   "id": "e4a31a32-5bbb-4cdd-b444-e4b44033bc28",
   "metadata": {
    "tags": []
   },
   "outputs": [],
   "source": [
    "compiler.Compiler().compile(\n",
    "    pipeline_func=tmp_pipe, package_path=TEMPLATE_PATH\n",
    ")"
   ]
  },
  {
   "cell_type": "code",
   "execution_count": 103,
   "id": "2955e391-ca6b-4057-b924-3204980a58f4",
   "metadata": {
    "tags": []
   },
   "outputs": [],
   "source": [
    "aiplatform.init(project=PROJECT_ID, staging_bucket=PIPELINE_ROOT)"
   ]
  },
  {
   "cell_type": "code",
   "execution_count": 104,
   "id": "c892edf7-94cf-4a93-a3b5-55dfe445d1ae",
   "metadata": {
    "tags": []
   },
   "outputs": [],
   "source": [
    "TIMESTAMP = datetime.now().strftime(\"%Y%m%d%H%M%S\")\n",
    "JOBID = f\"training-pipeline-{TIMESTAMP}\"\n",
    "\n",
    "# NB: these parameters must be added for your pipeline's args\n",
    "PIPELINE_PARAMS = {\n",
    "    \"project_id\": PROJECT_ID,\n",
    "    \"original_bucket_id\": CSV_FILE_BUCKET_NAME,\n",
    "    \"ml_bucket_id\": PIPELINE_ROOT,\n",
    "    \"target_train_filename\": \"train.csv\",\n",
    "    \"target_test_filename\": \"test.csv\",\n",
    "    \"datasplit_seed\": 10,\n",
    "    \"selected_features\": ['OverallQual', \n",
    "                   'GrLivArea', \n",
    "                   'GarageCars', \n",
    "                   'GarageArea',\n",
    "                   'TotalBsmtSF', \n",
    "                   '1stFlrSF', \n",
    "                   'FullBath', \n",
    "                   'TotRmsAbvGrd', \n",
    "                   'YearBuilt',\n",
    "                   \"BsmtUnfSF_TotalBsmtSF_ratio\"],\n",
    "    \"selected_label\": 'SalePrice'\n",
    "}\n",
    "\n",
    "\n",
    "pipeline_ = aiplatform.pipeline_jobs.PipelineJob(\n",
    "    enable_caching=ENABLE_CACHING,\n",
    "    display_name=PIPELINE_NAME,\n",
    "    template_path=TEMPLATE_PATH,\n",
    "    job_id=JOBID,\n",
    "    parameter_values=PIPELINE_PARAMS,\n",
    ")"
   ]
  },
  {
   "cell_type": "code",
   "execution_count": 105,
   "id": "5e34b118-6d68-4416-9a99-d42ba11384c5",
   "metadata": {
    "tags": []
   },
   "outputs": [
    {
     "name": "stdout",
     "output_type": "stream",
     "text": [
      "Creating PipelineJob\n",
      "PipelineJob created. Resource name: projects/909974886605/locations/us-central1/pipelineJobs/training-pipeline-20230419131111\n",
      "To use this PipelineJob in another session:\n",
      "pipeline_job = aiplatform.PipelineJob.get('projects/909974886605/locations/us-central1/pipelineJobs/training-pipeline-20230419131111')\n",
      "View Pipeline Job:\n",
      "https://console.cloud.google.com/vertex-ai/locations/us-central1/pipelines/runs/training-pipeline-20230419131111?project=909974886605\n"
     ]
    }
   ],
   "source": [
    "pipeline_.submit(service_account=SERVICE_ACCOUNT)"
   ]
  },
  {
   "cell_type": "code",
   "execution_count": null,
   "id": "818acc4a-438c-4d8e-84e5-065c47b66fe2",
   "metadata": {},
   "outputs": [],
   "source": []
  }
 ],
 "metadata": {
  "kernelspec": {
   "display_name": "Python 3 (ipykernel)",
   "language": "python",
   "name": "python3"
  },
  "language_info": {
   "codemirror_mode": {
    "name": "ipython",
    "version": 3
   },
   "file_extension": ".py",
   "mimetype": "text/x-python",
   "name": "python",
   "nbconvert_exporter": "python",
   "pygments_lexer": "ipython3",
   "version": "3.10.10"
  }
 },
 "nbformat": 4,
 "nbformat_minor": 5
}
