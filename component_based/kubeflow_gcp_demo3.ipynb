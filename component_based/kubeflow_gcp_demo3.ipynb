{
 "cells": [
  {
   "cell_type": "code",
   "execution_count": null,
   "id": "a78f4a07-3c2d-424a-8f9e-44b4a51adb37",
   "metadata": {
    "tags": []
   },
   "outputs": [],
   "source": [
    "import os\n",
    "from pathlib import Path\n",
    "import requests\n",
    "from datetime import datetime\n",
    "\n",
    "import kfp\n",
    "\n",
    "from kfp.v2.dsl import pipeline\n",
    "from kfp.v2 import compiler\n",
    "\n",
    "import google.cloud.aiplatform as aiplatform\n"
   ]
  },
  {
   "cell_type": "code",
   "execution_count": null,
   "id": "a993bd2f-6ef9-444b-a6e8-3e255f261354",
   "metadata": {
    "tags": []
   },
   "outputs": [],
   "source": []
  },
  {
   "cell_type": "code",
   "execution_count": null,
   "id": "5f4237b0-58fc-43fa-86a0-93d1c00c4ff6",
   "metadata": {
    "tags": []
   },
   "outputs": [],
   "source": [
    "# Cache pipeline results to avoid compute the same components for different runs\n",
    "ENABLE_CACHING = True\n",
    "\n",
    "PIPELINE_NAME = \"my-kfp-on-gcp-demo2-container-based\"\n",
    "# Your Kubeflow's detail\n",
    "TEMPLATE_PATH = \"ml_pipeline_2.json\"\n",
    "# GCS Bucket to store artefacts\n",
    "PIPELINE_ROOT = f\"gs://kfp-demo-bucket-{PROJECT_ID}\"\n",
    "\n",
    "# Run parameters\n",
    "TIMESTAMP = datetime.now().strftime(\"%Y%m%d%H%M%S\")\n",
    "JOBID = f\"training-pipeline-{TIMESTAMP}\"\n",
    "\n",
    "PIPELINE_PARAMS = {\n",
    "    \"project_id\": PROJECT_ID,\n",
    "    \"original_bucket_id\": CSV_FILE_BUCKET_NAME,\n",
    "    \"target_train_filename\": \"train.csv\",\n",
    "    \"target_test_filename\": \"test.csv\",\n",
    "}"
   ]
  },
  {
   "cell_type": "code",
   "execution_count": null,
   "id": "4dab90cb-2501-40ea-ae91-5c8f3db020bf",
   "metadata": {
    "tags": []
   },
   "outputs": [],
   "source": [
    "#Load the component\n",
    "preprocess_op = kfp.components.load_component_from_file('preprocess/component.yaml')"
   ]
  },
  {
   "cell_type": "code",
   "execution_count": null,
   "id": "1cf7fc51-cfdc-45d9-a98b-f44ad68423aa",
   "metadata": {
    "tags": []
   },
   "outputs": [],
   "source": [
    "# Define a pipeline and create a task from a component:\n",
    "@pipeline(name=PIPELINE_NAME, pipeline_root=PIPELINE_ROOT)\n",
    "def tmp_pipe(\n",
    "    project_id: str,\n",
    "    original_bucket_id: str,\n",
    "    target_train_filename: str,\n",
    "    target_test_filename: str,\n",
    "):\n",
    "    train_preprocess = preprocess_op(\n",
    "        project_id=project_id,\n",
    "        original_bucket_id=original_bucket_id,\n",
    "        target_filename=target_train_filename,\n",
    "    ).set_display_name(\"Preprocess train data\")\n",
    "\n",
    "    test_preprocess = preprocess_op(\n",
    "        project_id=project_id,\n",
    "        original_bucket_id=original_bucket_id,\n",
    "        target_filename=target_test_filename,\n",
    "    ).set_display_name(\"Preprocess test data\")"
   ]
  },
  {
   "cell_type": "code",
   "execution_count": null,
   "id": "ef8a65bf-1d67-4722-8e15-1b151c2a6608",
   "metadata": {
    "tags": []
   },
   "outputs": [],
   "source": [
    "compiler.Compiler().compile(\n",
    "    pipeline_func=tmp_pipe, package_path=TEMPLATE_PATH\n",
    ")"
   ]
  },
  {
   "cell_type": "code",
   "execution_count": null,
   "id": "27fa3d82-80b6-4db3-a0c2-a55922713212",
   "metadata": {
    "tags": []
   },
   "outputs": [],
   "source": [
    "aiplatform.init(project=PROJECT_ID, staging_bucket=PIPELINE_ROOT)"
   ]
  },
  {
   "cell_type": "code",
   "execution_count": null,
   "id": "a96fef73-483d-47ef-9bb2-49d7b2c938fa",
   "metadata": {
    "tags": []
   },
   "outputs": [],
   "source": [
    "TIMESTAMP = datetime.now().strftime(\"%Y%m%d%H%M%S\")\n",
    "JOBID = f\"training-pipeline-{TIMESTAMP}\"\n",
    "\n",
    "# Pipeline job\n",
    "pipeline_ = aiplatform.pipeline_jobs.PipelineJob(\n",
    "    enable_caching=ENABLE_CACHING,\n",
    "    display_name=PIPELINE_NAME,\n",
    "    template_path=TEMPLATE_PATH,\n",
    "    job_id=JOBID,\n",
    "    parameter_values=PIPELINE_PARAMS,\n",
    ")\n",
    "# Submit\n",
    "pipeline_.submit(service_account=SERVICE_ACCOUNT)"
   ]
  },
  {
   "cell_type": "code",
   "execution_count": null,
   "id": "2c4d888a-65d2-4e90-a027-ee88cbb635f3",
   "metadata": {},
   "outputs": [],
   "source": []
  }
 ],
 "metadata": {
  "kernelspec": {
   "display_name": "Python 3 (ipykernel)",
   "language": "python",
   "name": "python3"
  },
  "language_info": {
   "codemirror_mode": {
    "name": "ipython",
    "version": 3
   },
   "file_extension": ".py",
   "mimetype": "text/x-python",
   "name": "python",
   "nbconvert_exporter": "python",
   "pygments_lexer": "ipython3",
   "version": "3.10.10"
  }
 },
 "nbformat": 4,
 "nbformat_minor": 5
}
