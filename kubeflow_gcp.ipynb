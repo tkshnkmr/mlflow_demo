{
 "cells": [
  {
   "cell_type": "code",
   "execution_count": 1,
   "id": "9a03890e-9dd7-4c2f-99f2-c608dfbb06f6",
   "metadata": {
    "tags": []
   },
   "outputs": [],
   "source": [
    "import os\n",
    "import json\n",
    "from typing import NamedTuple\n",
    "from datetime import datetime\n",
    "import google.cloud.aiplatform as aiplatform"
   ]
  },
  {
   "cell_type": "code",
   "execution_count": 3,
   "id": "9cb57bba-77a0-4566-b85b-6a6301f2a1df",
   "metadata": {
    "tags": []
   },
   "outputs": [],
   "source": [
    "from kfp.v2.dsl import pipeline\n",
    "from kfp.v2.dsl import component\n",
    "from kfp.v2.dsl import OutputPath\n",
    "from kfp.v2.dsl import InputPath\n",
    "from kfp.v2.dsl import Model\n",
    "from kfp.v2.dsl import Input\n",
    "from kfp.v2.dsl import Artifact\n",
    "\n",
    "\n",
    "from kfp.v2.dsl import Output\n",
    "from kfp.v2.dsl import Metrics\n",
    "\n",
    "from kfp.v2 import compiler\n",
    "from kfp.v2.google.client import AIPlatformClient"
   ]
  },
  {
   "cell_type": "code",
   "execution_count": null,
   "id": "36ad2d39-e19a-417d-973a-cabb3e8a723a",
   "metadata": {},
   "outputs": [],
   "source": [
    "os.environ[\"GOOGLE_APPLICATION_CREDENTIALS\"] = \"\"\n",
    "PROJECT_ID = \"\"\n",
    "SERVICE_ACCOUNT = \"\""
   ]
  },
  {
   "cell_type": "code",
   "execution_count": null,
   "id": "8f6373ea-67a4-4d32-ae9e-04b5d3dd7562",
   "metadata": {},
   "outputs": [],
   "source": []
  },
  {
   "cell_type": "code",
   "execution_count": 4,
   "id": "1e2fb8db-ebf1-4c67-90f4-81395ae68aa3",
   "metadata": {
    "tags": []
   },
   "outputs": [],
   "source": [
    "ENABLE_CACHING = False\n",
    "\n",
    "PIPELINE_NAME = \"my-kfp-on-gcp-demo\"\n",
    "TEMPLATE_PATH = \"ml_pipeline_w_mlf_demo.json\"\n",
    "PIPELINE_ROOT = f\"gs://kfp-demo-bucket-{PROJECT_ID}\"\n",
    "\n",
    "TIMESTAMP = datetime.now().strftime(\"%Y%m%d%H%M%S\")\n",
    "\n",
    "JOBID = f\"training-pipeline-{TIMESTAMP}\"\n",
    "\n",
    "DATASET_ID = \"sklearn_default_housing\"\n",
    "TABLE_ID = \"NA\"\n",
    "COL_LABEL = \"MedHouseVal\" \n",
    "COL_TRAINING=[\"some_list\"]\n",
    "\n",
    "PIPELINE_PARAMS = {\"project_id\": PROJECT_ID,\n",
    "                   \"table_id\": TABLE_ID,\n",
    "                   \"dataset_id\": DATASET_ID,\n",
    "                   \"col_label\": COL_LABEL,\n",
    "                   \"col_training\": COL_TRAINING,\n",
    "                  \"datasplit_seed\": 10}"
   ]
  },
  {
   "cell_type": "markdown",
   "id": "c7839a00-3694-4023-8ca2-3aadec4d80ab",
   "metadata": {
    "tags": []
   },
   "source": [
    "### 1. Load data"
   ]
  },
  {
   "cell_type": "markdown",
   "id": "e1657fbc-1b98-492b-9bee-1edf4bf3f1fd",
   "metadata": {},
   "source": [
    "#### 1.a: Traditional way to write"
   ]
  },
  {
   "cell_type": "code",
   "execution_count": 5,
   "id": "faf1e467-d36a-483f-951d-ef6b0e85fd34",
   "metadata": {
    "tags": []
   },
   "outputs": [
    {
     "data": {
      "text/html": [
       "<div>\n",
       "<style scoped>\n",
       "    .dataframe tbody tr th:only-of-type {\n",
       "        vertical-align: middle;\n",
       "    }\n",
       "\n",
       "    .dataframe tbody tr th {\n",
       "        vertical-align: top;\n",
       "    }\n",
       "\n",
       "    .dataframe thead th {\n",
       "        text-align: right;\n",
       "    }\n",
       "</style>\n",
       "<table border=\"1\" class=\"dataframe\">\n",
       "  <thead>\n",
       "    <tr style=\"text-align: right;\">\n",
       "      <th></th>\n",
       "      <th>MedInc</th>\n",
       "      <th>HouseAge</th>\n",
       "      <th>AveRooms</th>\n",
       "      <th>AveBedrms</th>\n",
       "      <th>Population</th>\n",
       "      <th>AveOccup</th>\n",
       "      <th>Latitude</th>\n",
       "      <th>Longitude</th>\n",
       "      <th>MedHouseVal</th>\n",
       "    </tr>\n",
       "  </thead>\n",
       "  <tbody>\n",
       "    <tr>\n",
       "      <th>0</th>\n",
       "      <td>8.3252</td>\n",
       "      <td>41.0</td>\n",
       "      <td>6.984127</td>\n",
       "      <td>1.023810</td>\n",
       "      <td>322.0</td>\n",
       "      <td>2.555556</td>\n",
       "      <td>37.88</td>\n",
       "      <td>-122.23</td>\n",
       "      <td>4.526</td>\n",
       "    </tr>\n",
       "    <tr>\n",
       "      <th>1</th>\n",
       "      <td>8.3014</td>\n",
       "      <td>21.0</td>\n",
       "      <td>6.238137</td>\n",
       "      <td>0.971880</td>\n",
       "      <td>2401.0</td>\n",
       "      <td>2.109842</td>\n",
       "      <td>37.86</td>\n",
       "      <td>-122.22</td>\n",
       "      <td>3.585</td>\n",
       "    </tr>\n",
       "    <tr>\n",
       "      <th>2</th>\n",
       "      <td>7.2574</td>\n",
       "      <td>52.0</td>\n",
       "      <td>8.288136</td>\n",
       "      <td>1.073446</td>\n",
       "      <td>496.0</td>\n",
       "      <td>2.802260</td>\n",
       "      <td>37.85</td>\n",
       "      <td>-122.24</td>\n",
       "      <td>3.521</td>\n",
       "    </tr>\n",
       "    <tr>\n",
       "      <th>3</th>\n",
       "      <td>5.6431</td>\n",
       "      <td>52.0</td>\n",
       "      <td>5.817352</td>\n",
       "      <td>1.073059</td>\n",
       "      <td>558.0</td>\n",
       "      <td>2.547945</td>\n",
       "      <td>37.85</td>\n",
       "      <td>-122.25</td>\n",
       "      <td>3.413</td>\n",
       "    </tr>\n",
       "    <tr>\n",
       "      <th>4</th>\n",
       "      <td>3.8462</td>\n",
       "      <td>52.0</td>\n",
       "      <td>6.281853</td>\n",
       "      <td>1.081081</td>\n",
       "      <td>565.0</td>\n",
       "      <td>2.181467</td>\n",
       "      <td>37.85</td>\n",
       "      <td>-122.25</td>\n",
       "      <td>3.422</td>\n",
       "    </tr>\n",
       "  </tbody>\n",
       "</table>\n",
       "</div>"
      ],
      "text/plain": [
       "   MedInc  HouseAge  AveRooms  AveBedrms  Population  AveOccup  Latitude  \\\n",
       "0  8.3252      41.0  6.984127   1.023810       322.0  2.555556     37.88   \n",
       "1  8.3014      21.0  6.238137   0.971880      2401.0  2.109842     37.86   \n",
       "2  7.2574      52.0  8.288136   1.073446       496.0  2.802260     37.85   \n",
       "3  5.6431      52.0  5.817352   1.073059       558.0  2.547945     37.85   \n",
       "4  3.8462      52.0  6.281853   1.081081       565.0  2.181467     37.85   \n",
       "\n",
       "   Longitude  MedHouseVal  \n",
       "0    -122.23        4.526  \n",
       "1    -122.22        3.585  \n",
       "2    -122.24        3.521  \n",
       "3    -122.25        3.413  \n",
       "4    -122.25        3.422  "
      ]
     },
     "execution_count": 5,
     "metadata": {},
     "output_type": "execute_result"
    }
   ],
   "source": [
    "from sklearn.datasets import fetch_california_housing\n",
    "\n",
    "# Function to return the orignal data\n",
    "def load_my_data_local():\n",
    "    '''\n",
    "    Load data\n",
    "    '''\n",
    "    # Load data\n",
    "    cal_data = fetch_california_housing(as_frame=True)\n",
    "    df = cal_data.frame\n",
    "\n",
    "    # In reality, the data load process would be\n",
    "    # requests, or pulling data from data warehouse\n",
    "    # df = pd.read_csv(f\"{loc}/{tablename}\")\n",
    "\n",
    "    return df\n",
    "\n",
    "df = load_my_data_local()\n",
    "df.head()"
   ]
  },
  {
   "cell_type": "markdown",
   "id": "23b8f085-b2a8-4cd8-a7f9-ecc83a1ae504",
   "metadata": {},
   "source": [
    "#### 1.b: Kubeflow"
   ]
  },
  {
   "cell_type": "code",
   "execution_count": 6,
   "id": "3a04fd45-7de6-43be-8806-26dd8376afab",
   "metadata": {
    "tags": []
   },
   "outputs": [],
   "source": [
    "\"\"\"\n",
    "Load data from target resources\n",
    "\"\"\"\n",
    "# Function to return the orignal data\n",
    "@component(base_image='python:3.10', packages_to_install=['pandas==1.5.3', 'scikit-learn==1.2.2'])\n",
    "def load_my_data(output_csv: OutputPath('CSV')) -> None:\n",
    "    '''\n",
    "    Load data\n",
    "    '''\n",
    "    import pandas as pd\n",
    "    from sklearn.datasets import fetch_california_housing\n",
    "    \n",
    "    # Load data\n",
    "    cal_data = fetch_california_housing(as_frame=True)\n",
    "    df = cal_data.frame\n",
    "\n",
    "    # In reality, the data load process would be\n",
    "    # requests, or pulling data from data warehouse\n",
    "    # df = pd.read_csv(f\"{loc}/{tablename}\")\n",
    "    \n",
    "    # Create an output     \n",
    "    df.to_csv(output_csv, index=False, header=True)\n"
   ]
  },
  {
   "cell_type": "markdown",
   "id": "cd4357bc-c154-4c03-837e-88b94a441492",
   "metadata": {
    "tags": []
   },
   "source": [
    "### 2. Preprocess the data"
   ]
  },
  {
   "cell_type": "markdown",
   "id": "635908a7-4a6d-46b5-b601-68e0c24f840f",
   "metadata": {},
   "source": [
    "#### 2.a: Tradtional way to write"
   ]
  },
  {
   "cell_type": "code",
   "execution_count": 7,
   "id": "9461139b-b5b8-4ab4-9ded-7b5f64ec43f4",
   "metadata": {
    "tags": []
   },
   "outputs": [
    {
     "data": {
      "text/html": [
       "<div>\n",
       "<style scoped>\n",
       "    .dataframe tbody tr th:only-of-type {\n",
       "        vertical-align: middle;\n",
       "    }\n",
       "\n",
       "    .dataframe tbody tr th {\n",
       "        vertical-align: top;\n",
       "    }\n",
       "\n",
       "    .dataframe thead th {\n",
       "        text-align: right;\n",
       "    }\n",
       "</style>\n",
       "<table border=\"1\" class=\"dataframe\">\n",
       "  <thead>\n",
       "    <tr style=\"text-align: right;\">\n",
       "      <th></th>\n",
       "      <th>MedInc</th>\n",
       "      <th>HouseAge</th>\n",
       "      <th>AveRooms</th>\n",
       "      <th>AveBedrms</th>\n",
       "      <th>Population</th>\n",
       "      <th>AveOccup</th>\n",
       "      <th>Latitude</th>\n",
       "      <th>Longitude</th>\n",
       "      <th>MedHouseVal</th>\n",
       "      <th>AveRooms_bin</th>\n",
       "    </tr>\n",
       "  </thead>\n",
       "  <tbody>\n",
       "    <tr>\n",
       "      <th>0</th>\n",
       "      <td>8.3252</td>\n",
       "      <td>41.0</td>\n",
       "      <td>6.984127</td>\n",
       "      <td>1.023810</td>\n",
       "      <td>322.0</td>\n",
       "      <td>2.555556</td>\n",
       "      <td>37.88</td>\n",
       "      <td>-122.23</td>\n",
       "      <td>4.526</td>\n",
       "      <td>3</td>\n",
       "    </tr>\n",
       "    <tr>\n",
       "      <th>1</th>\n",
       "      <td>8.3014</td>\n",
       "      <td>21.0</td>\n",
       "      <td>6.238137</td>\n",
       "      <td>0.971880</td>\n",
       "      <td>2401.0</td>\n",
       "      <td>2.109842</td>\n",
       "      <td>37.86</td>\n",
       "      <td>-122.22</td>\n",
       "      <td>3.585</td>\n",
       "      <td>3</td>\n",
       "    </tr>\n",
       "    <tr>\n",
       "      <th>2</th>\n",
       "      <td>7.2574</td>\n",
       "      <td>52.0</td>\n",
       "      <td>8.288136</td>\n",
       "      <td>1.073446</td>\n",
       "      <td>496.0</td>\n",
       "      <td>2.802260</td>\n",
       "      <td>37.85</td>\n",
       "      <td>-122.24</td>\n",
       "      <td>3.521</td>\n",
       "      <td>4</td>\n",
       "    </tr>\n",
       "    <tr>\n",
       "      <th>3</th>\n",
       "      <td>5.6431</td>\n",
       "      <td>52.0</td>\n",
       "      <td>5.817352</td>\n",
       "      <td>1.073059</td>\n",
       "      <td>558.0</td>\n",
       "      <td>2.547945</td>\n",
       "      <td>37.85</td>\n",
       "      <td>-122.25</td>\n",
       "      <td>3.413</td>\n",
       "      <td>3</td>\n",
       "    </tr>\n",
       "    <tr>\n",
       "      <th>4</th>\n",
       "      <td>3.8462</td>\n",
       "      <td>52.0</td>\n",
       "      <td>6.281853</td>\n",
       "      <td>1.081081</td>\n",
       "      <td>565.0</td>\n",
       "      <td>2.181467</td>\n",
       "      <td>37.85</td>\n",
       "      <td>-122.25</td>\n",
       "      <td>3.422</td>\n",
       "      <td>3</td>\n",
       "    </tr>\n",
       "  </tbody>\n",
       "</table>\n",
       "</div>"
      ],
      "text/plain": [
       "   MedInc  HouseAge  AveRooms  AveBedrms  Population  AveOccup  Latitude  \\\n",
       "0  8.3252      41.0  6.984127   1.023810       322.0  2.555556     37.88   \n",
       "1  8.3014      21.0  6.238137   0.971880      2401.0  2.109842     37.86   \n",
       "2  7.2574      52.0  8.288136   1.073446       496.0  2.802260     37.85   \n",
       "3  5.6431      52.0  5.817352   1.073059       558.0  2.547945     37.85   \n",
       "4  3.8462      52.0  6.281853   1.081081       565.0  2.181467     37.85   \n",
       "\n",
       "   Longitude  MedHouseVal  AveRooms_bin  \n",
       "0    -122.23        4.526             3  \n",
       "1    -122.22        3.585             3  \n",
       "2    -122.24        3.521             4  \n",
       "3    -122.25        3.413             3  \n",
       "4    -122.25        3.422             3  "
      ]
     },
     "execution_count": 7,
     "metadata": {},
     "output_type": "execute_result"
    }
   ],
   "source": [
    "\"\"\"\n",
    "Preprocess data for ml model\n",
    "\"\"\"\n",
    "import pandas as pd\n",
    "\n",
    "def preprocess_my_data_local(df) -> pd.DataFrame:\n",
    "    \"\"\"\n",
    "    Some preprocessing\n",
    "    \"\"\"\n",
    "    # Create a new feature\n",
    "    df['AveRooms_bin'] = pd.to_numeric(pd.cut(x = df['AveRooms'], \n",
    "                            bins = [0, 3, 5, 7, 10, 300], \n",
    "                            labels = [1, 2, 3, 4, 5]\n",
    "                            ))\n",
    "\n",
    "    return df\n",
    "\n",
    "df_processed = preprocess_my_data_local(df)\n",
    "df.head()"
   ]
  },
  {
   "cell_type": "markdown",
   "id": "e1146f4f-67ec-4258-8e92-c52019ab0cec",
   "metadata": {},
   "source": [
    "#### 2.b: Kubeflow pipeline"
   ]
  },
  {
   "cell_type": "code",
   "execution_count": 8,
   "id": "bec6bbb4-83d0-4b78-9b6b-e94ba773bba5",
   "metadata": {
    "tags": []
   },
   "outputs": [],
   "source": [
    "@component(base_image='python:3.10', packages_to_install=['pandas==1.5.3'])\n",
    "def preprocess_my_data(input_csv: InputPath('CSV'), output_csv: OutputPath('CSV')):\n",
    "    \"\"\"\n",
    "    Some preprocessing\n",
    "    \"\"\"\n",
    "    import pandas as pd\n",
    "    \n",
    "    df = pd.read_csv(input_csv)\n",
    "    # Create a new feature\n",
    "    df['AveRooms_bin'] = pd.to_numeric(pd.cut(x = df['AveRooms'], \n",
    "                            bins = [0, 3, 5, 7, 10, 300], \n",
    "                            labels = [1, 2, 3, 4, 5]\n",
    "                            ))\n",
    "\n",
    "    # Create an output     \n",
    "    df.to_csv(output_csv, index=False, header=True)\n"
   ]
  },
  {
   "cell_type": "code",
   "execution_count": null,
   "id": "a7197ce5-276a-40dd-8335-48a982d12492",
   "metadata": {},
   "outputs": [],
   "source": []
  },
  {
   "cell_type": "markdown",
   "id": "4c8544d5-91dc-4671-a84f-5196326590b5",
   "metadata": {
    "tags": []
   },
   "source": [
    "### 3. Train model"
   ]
  },
  {
   "cell_type": "code",
   "execution_count": 9,
   "id": "a3a876b1-054e-4ee7-82a5-f130f5762c18",
   "metadata": {
    "tags": []
   },
   "outputs": [],
   "source": [
    "@component(base_image='python:3.10', packages_to_install=['pandas==1.5.3', 'scikit-learn==1.2.2', 'numpy==1.23.5', 'mlflow==2.2.2'])\n",
    "def train_ml_model_with_mlflow(input_csv: InputPath('CSV'), datasplit_seed: int) -> NamedTuple('Outputs', [('val_mse', float), ('val_mae', float), ('model_location', str)]):\n",
    "    \"\"\"\n",
    "    Some training\n",
    "    \"\"\"\n",
    "    from sklearn.model_selection import train_test_split\n",
    "    from sklearn.metrics import (\n",
    "        mean_absolute_error,\n",
    "        mean_squared_error\n",
    "    )\n",
    "    import numpy as np\n",
    "    from sklearn.linear_model import ElasticNet\n",
    "    import pandas as pd\n",
    "    import mlflow\n",
    "    \n",
    "    df = pd.read_csv(input_csv)\n",
    "\n",
    "    # Split Features and Labels\n",
    "    X = df.drop(['AveRooms', 'MedHouseVal'], axis=1)\n",
    "    y = df['MedHouseVal']\n",
    "\n",
    "    # Split the data for train (80%) and validation (20%)\n",
    "    X_train, X_val, y_train, y_val = train_test_split(X, y, test_size=0.2, random_state=datasplit_seed)\n",
    "    \n",
    "    with mlflow.start_run(run_name='my_kfp_house_reg'):\n",
    "        elastic_net_reg = ElasticNet(alpha=0.5, l1_ratio=0.5, random_state=42)\n",
    "        elastic_net_reg.fit(X_train, y_train)\n",
    "        result = mlflow.sklearn.log_model(elastic_net_reg, \"model\")        \n",
    "\n",
    "    y_val_pred = elastic_net_reg.predict(X_val)\n",
    "\n",
    "    val_mse = mean_absolute_error(y_val, y_val_pred)\n",
    "    val_mae = mean_squared_error(y_val, y_val_pred)\n",
    "    \n",
    "    return (val_mse, val_mae, f\"{mlflow.get_artifact_uri()}/{result.artifact_path}\")\n"
   ]
  },
  {
   "cell_type": "code",
   "execution_count": null,
   "id": "8eabb01e-8166-4ce4-b3be-45c607355b44",
   "metadata": {
    "tags": []
   },
   "outputs": [],
   "source": []
  },
  {
   "cell_type": "code",
   "execution_count": 10,
   "id": "9a6bf2e1-81f5-4a93-963c-f00aeda26972",
   "metadata": {
    "tags": []
   },
   "outputs": [],
   "source": [
    "# Define a pipeline and create a task from a component:\n",
    "@pipeline(name=PIPELINE_NAME, pipeline_root=PIPELINE_ROOT)\n",
    "def my_ml_pipeline_with_kfp(project_id: str, \n",
    "                            table_id: str,\n",
    "                            dataset_id: str,\n",
    "                            col_label: str,\n",
    "                            col_training: list,\n",
    "                            datasplit_seed: int):\n",
    "    load_task = load_my_data()\n",
    "    preprocess_task = preprocess_my_data(input_csv=load_task.outputs['output_csv'])\n",
    "    train_task = train_ml_model_with_mlflow(input_csv=preprocess_task.outputs['output_csv'], datasplit_seed=datasplit_seed)"
   ]
  },
  {
   "cell_type": "code",
   "execution_count": 11,
   "id": "f622acd3-ed42-4eba-9ee4-0a07d7449efc",
   "metadata": {
    "tags": []
   },
   "outputs": [
    {
     "name": "stderr",
     "output_type": "stream",
     "text": [
      "/Users/takashinakamura/mlflow_demo/lib/python3.10/site-packages/kfp/v2/compiler/compiler.py:1290: FutureWarning: APIs imported from the v1 namespace (e.g. kfp.dsl, kfp.components, etc) will not be supported by the v2 compiler since v2.0.0\n",
      "  warnings.warn(\n"
     ]
    }
   ],
   "source": [
    "compiler.Compiler().compile(\n",
    "    pipeline_func=my_ml_pipeline_with_kfp,\n",
    "    package_path=TEMPLATE_PATH)"
   ]
  },
  {
   "cell_type": "code",
   "execution_count": 12,
   "id": "3a8fe141-4ff6-4e30-98e5-65a0c81522cd",
   "metadata": {
    "tags": []
   },
   "outputs": [],
   "source": [
    "aiplatform.init(project=PROJECT_ID, staging_bucket=PIPELINE_ROOT)"
   ]
  },
  {
   "cell_type": "code",
   "execution_count": 13,
   "id": "efde3db5-e5d3-4d45-a5ef-99fa69beb94e",
   "metadata": {
    "tags": []
   },
   "outputs": [],
   "source": [
    "pipeline_ = aiplatform.pipeline_jobs.PipelineJob(\n",
    "    enable_caching=ENABLE_CACHING,\n",
    "    display_name=PIPELINE_NAME,\n",
    "    template_path=TEMPLATE_PATH,\n",
    "    job_id=JOBID,\n",
    "    parameter_values=PIPELINE_PARAMS)"
   ]
  },
  {
   "cell_type": "code",
   "execution_count": 17,
   "id": "9d18679c-f2ac-4b33-bb62-37b6375840ea",
   "metadata": {
    "tags": []
   },
   "outputs": [
    {
     "name": "stdout",
     "output_type": "stream",
     "text": [
      "Creating PipelineJob\n",
      "PipelineJob created. Resource name: projects/909974886605/locations/us-central1/pipelineJobs/training-pipeline-20230418171242\n",
      "To use this PipelineJob in another session:\n",
      "pipeline_job = aiplatform.PipelineJob.get('projects/909974886605/locations/us-central1/pipelineJobs/training-pipeline-20230418171242')\n",
      "View Pipeline Job:\n",
      "https://console.cloud.google.com/vertex-ai/locations/us-central1/pipelines/runs/training-pipeline-20230418171242?project=909974886605\n"
     ]
    }
   ],
   "source": [
    "pipeline_.submit(service_account=SERVICE_ACCOUNT)"
   ]
  },
  {
   "cell_type": "code",
   "execution_count": null,
   "id": "679f6781-f4ca-4242-8cb8-63d605afd92f",
   "metadata": {},
   "outputs": [],
   "source": []
  },
  {
   "cell_type": "code",
   "execution_count": null,
   "id": "818acc4a-438c-4d8e-84e5-065c47b66fe2",
   "metadata": {},
   "outputs": [],
   "source": []
  }
 ],
 "metadata": {
  "kernelspec": {
   "display_name": "Python 3 (ipykernel)",
   "language": "python",
   "name": "python3"
  },
  "language_info": {
   "codemirror_mode": {
    "name": "ipython",
    "version": 3
   },
   "file_extension": ".py",
   "mimetype": "text/x-python",
   "name": "python",
   "nbconvert_exporter": "python",
   "pygments_lexer": "ipython3",
   "version": "3.10.10"
  }
 },
 "nbformat": 4,
 "nbformat_minor": 5
}
