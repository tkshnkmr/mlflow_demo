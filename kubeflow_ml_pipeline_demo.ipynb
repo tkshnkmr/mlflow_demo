{
 "cells": [
  {
   "cell_type": "markdown",
   "id": "ce737056-5b8f-4d2c-9328-df583d28bfe6",
   "metadata": {},
   "source": [
    "# Kubeflow pipeline demo"
   ]
  },
  {
   "cell_type": "markdown",
   "id": "4086ae72-4008-4f70-b1f3-c4e87e96e580",
   "metadata": {
    "tags": []
   },
   "source": [
    "### Load data"
   ]
  },
  {
   "cell_type": "markdown",
   "id": "27ea7269-7521-4c50-b214-096f3cf69f97",
   "metadata": {},
   "source": [
    "#### Traditional way to write"
   ]
  },
  {
   "cell_type": "code",
   "execution_count": 10,
   "id": "fca4d752-06b4-400a-9606-ccd5cb169174",
   "metadata": {},
   "outputs": [],
   "source": [
    "\"\"\"\n",
    "Load data from target resources\n",
    "\"\"\"\n",
    "\n",
    "import pandas as pd\n",
    "from sklearn.datasets import fetch_california_housing\n",
    "\n",
    "\n",
    "# Function to return the orignal data\n",
    "def load_my_data():\n",
    "    '''\n",
    "    Load data\n",
    "    '''\n",
    "    # Load data\n",
    "    cal_data = fetch_california_housing(as_frame=True)\n",
    "    df = cal_data.frame\n",
    "\n",
    "    # In reality, the data load process would be\n",
    "    # requests, or pulling data from data warehouse\n",
    "    # df = pd.read_csv(f\"{loc}/{tablename}\")\n",
    "\n",
    "    return df\n"
   ]
  },
  {
   "cell_type": "code",
   "execution_count": 11,
   "id": "dbb249a7-03f6-41ad-9c4c-681acdb8c059",
   "metadata": {},
   "outputs": [],
   "source": [
    "df = load_my_data()"
   ]
  },
  {
   "cell_type": "code",
   "execution_count": 14,
   "id": "eb922114-9256-4a45-b568-7920eac7f419",
   "metadata": {},
   "outputs": [],
   "source": [
    "df.to_csv('to_csv_test.csv', index=False, header=True)"
   ]
  },
  {
   "cell_type": "code",
   "execution_count": 17,
   "id": "f6edeb52-e6a2-4409-b86d-6b9e6ba99952",
   "metadata": {},
   "outputs": [],
   "source": [
    "df = pd.read_csv('to_csv_test.csv')"
   ]
  },
  {
   "cell_type": "code",
   "execution_count": 18,
   "id": "71567c06-9c7b-4992-969f-85bb64137a87",
   "metadata": {},
   "outputs": [
    {
     "data": {
      "text/html": [
       "<div>\n",
       "<style scoped>\n",
       "    .dataframe tbody tr th:only-of-type {\n",
       "        vertical-align: middle;\n",
       "    }\n",
       "\n",
       "    .dataframe tbody tr th {\n",
       "        vertical-align: top;\n",
       "    }\n",
       "\n",
       "    .dataframe thead th {\n",
       "        text-align: right;\n",
       "    }\n",
       "</style>\n",
       "<table border=\"1\" class=\"dataframe\">\n",
       "  <thead>\n",
       "    <tr style=\"text-align: right;\">\n",
       "      <th></th>\n",
       "      <th>MedInc</th>\n",
       "      <th>HouseAge</th>\n",
       "      <th>AveRooms</th>\n",
       "      <th>AveBedrms</th>\n",
       "      <th>Population</th>\n",
       "      <th>AveOccup</th>\n",
       "      <th>Latitude</th>\n",
       "      <th>Longitude</th>\n",
       "      <th>MedHouseVal</th>\n",
       "    </tr>\n",
       "  </thead>\n",
       "  <tbody>\n",
       "    <tr>\n",
       "      <th>0</th>\n",
       "      <td>8.3252</td>\n",
       "      <td>41.0</td>\n",
       "      <td>6.984127</td>\n",
       "      <td>1.023810</td>\n",
       "      <td>322.0</td>\n",
       "      <td>2.555556</td>\n",
       "      <td>37.88</td>\n",
       "      <td>-122.23</td>\n",
       "      <td>4.526</td>\n",
       "    </tr>\n",
       "    <tr>\n",
       "      <th>1</th>\n",
       "      <td>8.3014</td>\n",
       "      <td>21.0</td>\n",
       "      <td>6.238137</td>\n",
       "      <td>0.971880</td>\n",
       "      <td>2401.0</td>\n",
       "      <td>2.109842</td>\n",
       "      <td>37.86</td>\n",
       "      <td>-122.22</td>\n",
       "      <td>3.585</td>\n",
       "    </tr>\n",
       "    <tr>\n",
       "      <th>2</th>\n",
       "      <td>7.2574</td>\n",
       "      <td>52.0</td>\n",
       "      <td>8.288136</td>\n",
       "      <td>1.073446</td>\n",
       "      <td>496.0</td>\n",
       "      <td>2.802260</td>\n",
       "      <td>37.85</td>\n",
       "      <td>-122.24</td>\n",
       "      <td>3.521</td>\n",
       "    </tr>\n",
       "    <tr>\n",
       "      <th>3</th>\n",
       "      <td>5.6431</td>\n",
       "      <td>52.0</td>\n",
       "      <td>5.817352</td>\n",
       "      <td>1.073059</td>\n",
       "      <td>558.0</td>\n",
       "      <td>2.547945</td>\n",
       "      <td>37.85</td>\n",
       "      <td>-122.25</td>\n",
       "      <td>3.413</td>\n",
       "    </tr>\n",
       "    <tr>\n",
       "      <th>4</th>\n",
       "      <td>3.8462</td>\n",
       "      <td>52.0</td>\n",
       "      <td>6.281853</td>\n",
       "      <td>1.081081</td>\n",
       "      <td>565.0</td>\n",
       "      <td>2.181467</td>\n",
       "      <td>37.85</td>\n",
       "      <td>-122.25</td>\n",
       "      <td>3.422</td>\n",
       "    </tr>\n",
       "    <tr>\n",
       "      <th>...</th>\n",
       "      <td>...</td>\n",
       "      <td>...</td>\n",
       "      <td>...</td>\n",
       "      <td>...</td>\n",
       "      <td>...</td>\n",
       "      <td>...</td>\n",
       "      <td>...</td>\n",
       "      <td>...</td>\n",
       "      <td>...</td>\n",
       "    </tr>\n",
       "    <tr>\n",
       "      <th>20635</th>\n",
       "      <td>1.5603</td>\n",
       "      <td>25.0</td>\n",
       "      <td>5.045455</td>\n",
       "      <td>1.133333</td>\n",
       "      <td>845.0</td>\n",
       "      <td>2.560606</td>\n",
       "      <td>39.48</td>\n",
       "      <td>-121.09</td>\n",
       "      <td>0.781</td>\n",
       "    </tr>\n",
       "    <tr>\n",
       "      <th>20636</th>\n",
       "      <td>2.5568</td>\n",
       "      <td>18.0</td>\n",
       "      <td>6.114035</td>\n",
       "      <td>1.315789</td>\n",
       "      <td>356.0</td>\n",
       "      <td>3.122807</td>\n",
       "      <td>39.49</td>\n",
       "      <td>-121.21</td>\n",
       "      <td>0.771</td>\n",
       "    </tr>\n",
       "    <tr>\n",
       "      <th>20637</th>\n",
       "      <td>1.7000</td>\n",
       "      <td>17.0</td>\n",
       "      <td>5.205543</td>\n",
       "      <td>1.120092</td>\n",
       "      <td>1007.0</td>\n",
       "      <td>2.325635</td>\n",
       "      <td>39.43</td>\n",
       "      <td>-121.22</td>\n",
       "      <td>0.923</td>\n",
       "    </tr>\n",
       "    <tr>\n",
       "      <th>20638</th>\n",
       "      <td>1.8672</td>\n",
       "      <td>18.0</td>\n",
       "      <td>5.329513</td>\n",
       "      <td>1.171920</td>\n",
       "      <td>741.0</td>\n",
       "      <td>2.123209</td>\n",
       "      <td>39.43</td>\n",
       "      <td>-121.32</td>\n",
       "      <td>0.847</td>\n",
       "    </tr>\n",
       "    <tr>\n",
       "      <th>20639</th>\n",
       "      <td>2.3886</td>\n",
       "      <td>16.0</td>\n",
       "      <td>5.254717</td>\n",
       "      <td>1.162264</td>\n",
       "      <td>1387.0</td>\n",
       "      <td>2.616981</td>\n",
       "      <td>39.37</td>\n",
       "      <td>-121.24</td>\n",
       "      <td>0.894</td>\n",
       "    </tr>\n",
       "  </tbody>\n",
       "</table>\n",
       "<p>20640 rows × 9 columns</p>\n",
       "</div>"
      ],
      "text/plain": [
       "       MedInc  HouseAge  AveRooms  AveBedrms  Population  AveOccup  Latitude  \\\n",
       "0      8.3252      41.0  6.984127   1.023810       322.0  2.555556     37.88   \n",
       "1      8.3014      21.0  6.238137   0.971880      2401.0  2.109842     37.86   \n",
       "2      7.2574      52.0  8.288136   1.073446       496.0  2.802260     37.85   \n",
       "3      5.6431      52.0  5.817352   1.073059       558.0  2.547945     37.85   \n",
       "4      3.8462      52.0  6.281853   1.081081       565.0  2.181467     37.85   \n",
       "...       ...       ...       ...        ...         ...       ...       ...   \n",
       "20635  1.5603      25.0  5.045455   1.133333       845.0  2.560606     39.48   \n",
       "20636  2.5568      18.0  6.114035   1.315789       356.0  3.122807     39.49   \n",
       "20637  1.7000      17.0  5.205543   1.120092      1007.0  2.325635     39.43   \n",
       "20638  1.8672      18.0  5.329513   1.171920       741.0  2.123209     39.43   \n",
       "20639  2.3886      16.0  5.254717   1.162264      1387.0  2.616981     39.37   \n",
       "\n",
       "       Longitude  MedHouseVal  \n",
       "0        -122.23        4.526  \n",
       "1        -122.22        3.585  \n",
       "2        -122.24        3.521  \n",
       "3        -122.25        3.413  \n",
       "4        -122.25        3.422  \n",
       "...          ...          ...  \n",
       "20635    -121.09        0.781  \n",
       "20636    -121.21        0.771  \n",
       "20637    -121.22        0.923  \n",
       "20638    -121.32        0.847  \n",
       "20639    -121.24        0.894  \n",
       "\n",
       "[20640 rows x 9 columns]"
      ]
     },
     "execution_count": 18,
     "metadata": {},
     "output_type": "execute_result"
    }
   ],
   "source": [
    "df"
   ]
  },
  {
   "cell_type": "markdown",
   "id": "c8007434-5892-4de6-86c2-90806d76c1ca",
   "metadata": {},
   "source": [
    "#### Kubeflow pipeline"
   ]
  },
  {
   "cell_type": "code",
   "execution_count": 22,
   "id": "529bf9fb-2c19-4538-a478-cb9ce7a9a47d",
   "metadata": {},
   "outputs": [],
   "source": [
    "import kfp\n",
    "import kfp.components as comp\n",
    "\n",
    "\n",
    "\"\"\"\n",
    "Load data from target resources\n",
    "\"\"\"\n",
    "# Function to return the orignal data\n",
    "def load_my_data(output_csv: comp.OutputPath('CSV')):\n",
    "    '''\n",
    "    Load data\n",
    "    '''\n",
    "    import pandas as pd\n",
    "    from sklearn.datasets import fetch_california_housing\n",
    "    \n",
    "    # Load data\n",
    "    cal_data = fetch_california_housing(as_frame=True)\n",
    "    df = cal_data.frame\n",
    "\n",
    "    # In reality, the data load process would be\n",
    "    # requests, or pulling data from data warehouse\n",
    "    # df = pd.read_csv(f\"{loc}/{tablename}\")\n",
    "    \n",
    "    # Create an output     \n",
    "    df.to_csv(output_csv, index=False, header=True)\n"
   ]
  },
  {
   "cell_type": "markdown",
   "id": "b8443d64-f6c6-4e22-aa4d-d6e79e63d635",
   "metadata": {},
   "source": [
    "#### Create a pipeline component from the function"
   ]
  },
  {
   "cell_type": "code",
   "execution_count": 23,
   "id": "54094783-1447-411b-8e93-389fe3b4e5d7",
   "metadata": {},
   "outputs": [],
   "source": [
    "load_data_from_web = kfp.components.create_component_from_func(\n",
    "    func=load_my_data,\n",
    "    output_component_file='data_load.yaml', # This is optional. It saves the component spec for future use.\n",
    "    base_image='python:3.10',\n",
    "    packages_to_install=['pandas==1.5.3', 'scikit-learn==1.2.2'])"
   ]
  },
  {
   "cell_type": "markdown",
   "id": "71ccdbf3-f389-4c85-b873-6f9eec3956ee",
   "metadata": {
    "tags": []
   },
   "source": [
    "### Preprocess the data"
   ]
  },
  {
   "cell_type": "markdown",
   "id": "dec93af8-ee46-4073-b86d-447acb2315ef",
   "metadata": {},
   "source": [
    "#### Tradtional way to write"
   ]
  },
  {
   "cell_type": "code",
   "execution_count": 3,
   "id": "9461139b-b5b8-4ab4-9ded-7b5f64ec43f4",
   "metadata": {},
   "outputs": [],
   "source": [
    "\"\"\"\n",
    "Preprocess data for ml model\n",
    "\"\"\"\n",
    "import pandas as pd\n",
    "\n",
    "def preprocess_my_data(df) -> pd.DataFrame:\n",
    "    \"\"\"\n",
    "    Some preprocessing\n",
    "    \"\"\"\n",
    "    # Create a new feature\n",
    "    df['AveRooms_bin'] = pd.to_numeric(pd.cut(x = df['AveRooms'], \n",
    "                            bins = [0, 3, 5, 7, 10, 300], \n",
    "                            labels = [1, 2, 3, 4, 5]\n",
    "                            ))\n",
    "\n",
    "    return df\n"
   ]
  },
  {
   "cell_type": "markdown",
   "id": "f580249d-7024-408d-a204-5633a3b1ebde",
   "metadata": {},
   "source": [
    "#### Kubeflow pipeline"
   ]
  },
  {
   "cell_type": "code",
   "execution_count": 24,
   "id": "bec6bbb4-83d0-4b78-9b6b-e94ba773bba5",
   "metadata": {},
   "outputs": [],
   "source": [
    "def preprocess_my_data(input_csv: comp.InputPath('CSV'), output_csv: comp.OutputPath('CSV')):\n",
    "    \"\"\"\n",
    "    Some preprocessing\n",
    "    \"\"\"\n",
    "    import pandas as pd\n",
    "    \n",
    "    df = pd.read_csv(input_csv)\n",
    "    # Create a new feature\n",
    "    df['AveRooms_bin'] = pd.to_numeric(pd.cut(x = df['AveRooms'], \n",
    "                            bins = [0, 3, 5, 7, 10, 300], \n",
    "                            labels = [1, 2, 3, 4, 5]\n",
    "                            ))\n",
    "\n",
    "    # Create an output     \n",
    "    df.to_csv(output_csv, index=False, header=False)"
   ]
  },
  {
   "cell_type": "markdown",
   "id": "b471943d-f980-4d39-9f8c-84b83471fd73",
   "metadata": {},
   "source": [
    "#### Create a pipeline component from the function"
   ]
  },
  {
   "cell_type": "code",
   "execution_count": 25,
   "id": "13a2dee7-a26c-4da5-9e6e-bafb0c7ea7d8",
   "metadata": {},
   "outputs": [],
   "source": [
    "preprocess_data = kfp.components.create_component_from_func(\n",
    "    func=preprocess_my_data,\n",
    "    output_component_file='data_preprocess.yaml', # This is optional. It saves the component spec for future use.\n",
    "    base_image='python:3.10',\n",
    "    packages_to_install=['pandas==1.5.3'])"
   ]
  },
  {
   "cell_type": "code",
   "execution_count": null,
   "id": "351074fe-75d1-4db1-b49e-b9c2c34e694b",
   "metadata": {},
   "outputs": [],
   "source": []
  },
  {
   "cell_type": "code",
   "execution_count": null,
   "id": "b4522ccb-9c6a-482f-aadf-4f6cc818fafd",
   "metadata": {},
   "outputs": [],
   "source": []
  },
  {
   "cell_type": "code",
   "execution_count": null,
   "id": "34840d94-1cff-42ce-a385-b73eeefdaba5",
   "metadata": {},
   "outputs": [],
   "source": []
  },
  {
   "cell_type": "code",
   "execution_count": null,
   "id": "468c794f-3842-47ba-b211-5df8b1486f91",
   "metadata": {},
   "outputs": [],
   "source": []
  },
  {
   "cell_type": "code",
   "execution_count": null,
   "id": "42b98043-0106-4a29-b0a2-caa67c307b35",
   "metadata": {},
   "outputs": [],
   "source": []
  },
  {
   "cell_type": "code",
   "execution_count": null,
   "id": "ea4b529e-1b3a-4dc2-a545-d64b42472468",
   "metadata": {},
   "outputs": [],
   "source": []
  },
  {
   "cell_type": "code",
   "execution_count": null,
   "id": "76c7bfc5-af13-4085-b23a-83ef78b96dc8",
   "metadata": {},
   "outputs": [],
   "source": []
  },
  {
   "cell_type": "code",
   "execution_count": null,
   "id": "461a5915-308a-4403-b6b6-91fa89731cf0",
   "metadata": {},
   "outputs": [],
   "source": []
  },
  {
   "cell_type": "code",
   "execution_count": null,
   "id": "a5c7b1d1-5d18-4a73-bda7-eb96ce6af4ac",
   "metadata": {},
   "outputs": [],
   "source": []
  },
  {
   "cell_type": "markdown",
   "id": "8921266a-7a8b-4cb0-95ab-ecf58c72da0e",
   "metadata": {},
   "source": [
    "## Create a pipeline and compile"
   ]
  },
  {
   "cell_type": "code",
   "execution_count": 32,
   "id": "e2d1a2a6-f17e-4e4d-875e-8e384c8ca5aa",
   "metadata": {},
   "outputs": [],
   "source": [
    "# Define a pipeline and create a task from a component:\n",
    "def my_ml_pipeline():\n",
    "    load_task = load_data_from_web()\n",
    "    preprocess_task = preprocess_data(input_csv=load_task.outputs['output_csv'])\n",
    "    # The outputs of the merge_csv_task can be referenced using the\n",
    "    # merge_csv_task.outputs dictionary: merge_csv_task.outputs['output_csv']"
   ]
  },
  {
   "cell_type": "code",
   "execution_count": 33,
   "id": "043e89cf-e6a0-49d1-a614-ea0489e79aa8",
   "metadata": {},
   "outputs": [],
   "source": [
    "kfp.compiler.Compiler().compile(\n",
    "    pipeline_func=my_ml_pipeline,\n",
    "    package_path='ml_pipeline_demo.yaml')"
   ]
  },
  {
   "cell_type": "code",
   "execution_count": null,
   "id": "73813b17-bb55-4f15-8379-3f701315df51",
   "metadata": {},
   "outputs": [],
   "source": []
  }
 ],
 "metadata": {
  "kernelspec": {
   "display_name": "Python 3 (ipykernel)",
   "language": "python",
   "name": "python3"
  },
  "language_info": {
   "codemirror_mode": {
    "name": "ipython",
    "version": 3
   },
   "file_extension": ".py",
   "mimetype": "text/x-python",
   "name": "python",
   "nbconvert_exporter": "python",
   "pygments_lexer": "ipython3",
   "version": "3.8.10"
  }
 },
 "nbformat": 4,
 "nbformat_minor": 5
}
