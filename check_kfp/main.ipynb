{
 "cells": [
  {
   "cell_type": "code",
   "execution_count": null,
   "id": "2f439683-5c29-47cb-98aa-b3c7e8fade04",
   "metadata": {
    "tags": []
   },
   "outputs": [],
   "source": [
    "import os\n",
    "from pathlib import Path\n",
    "import requests\n",
    "from datetime import datetime\n",
    "\n",
    "import kfp\n",
    "\n",
    "from kfp.v2.dsl import pipeline\n",
    "from kfp.v2 import compiler\n",
    "\n",
    "import google.cloud.aiplatform as aiplatform\n"
   ]
  },
  {
   "cell_type": "code",
   "execution_count": null,
   "id": "67d84eb5-9f26-43e0-907c-57be3b4e2c38",
   "metadata": {
    "tags": []
   },
   "outputs": [],
   "source": []
  },
  {
   "cell_type": "code",
   "execution_count": null,
   "id": "3c5eab86-8dfd-463e-b876-bffd7686b60f",
   "metadata": {
    "tags": []
   },
   "outputs": [],
   "source": [
    "# Cache pipeline results to avoid compute the same components for different runs\n",
    "ENABLE_CACHING = False\n",
    "\n",
    "PIPELINE_NAME = \"check-kfp\"\n",
    "# Your Kubeflow's detail\n",
    "TEMPLATE_PATH = \"check_kfp_components.json\"\n",
    "# GCS Bucket to store artefacts\n",
    "PIPELINE_ROOT = f\"gs://check-fkp-{PROJECT_ID}\"\n",
    "\n",
    "# NB: these parameters must be added for your pipeline's args\n",
    "PIPELINE_PARAMS = {\n",
    "    \"in_str\": \"temp_string\",\n",
    "    \"in_int\": 123,\n",
    "    \"in_float\": 0.12345,\n",
    "}"
   ]
  },
  {
   "cell_type": "code",
   "execution_count": null,
   "id": "e7958c0f-4f89-483e-8652-9f93ccb1fa91",
   "metadata": {
    "tags": []
   },
   "outputs": [],
   "source": [
    "#Load the component\n",
    "\n",
    "component1_op = kfp.components.load_component_from_file(\"component1/component.yaml\")\n",
    "component2_op = kfp.components.load_component_from_file(\"component2/component.yaml\")\n",
    "\n",
    "\n",
    "# Define a pipeline and create a task from a component:\n",
    "@pipeline(name=PIPELINE_NAME, pipeline_root=PIPELINE_ROOT)\n",
    "def tmp_pipe(\n",
    "    in_str: str,\n",
    "    in_int: int,\n",
    "    in_float: float,\n",
    "):\n",
    "    comp1 = component1_op(\n",
    "        in_str=in_str,\n",
    "        in_int=in_int,\n",
    "        in_float=in_float,\n",
    "    ).set_display_name(\"Component1\")\n",
    "    \n",
    "    \n",
    "    comp2 = component2_op(\n",
    "        in_artifact_path=comp1.outputs[\"out_artifact_path\"],\n",
    "        in_dataset_path=comp1.outputs[\"out_dataset_path\"],\n",
    "        in_metrics_path=comp1.outputs[\"out_metrics_path\"],\n",
    "        in_model_path=comp1.outputs[\"out_model_path\"],\n",
    "        # out_metrics=comp1.outputs[\"out_metrics\"],\n",
    "        # out_artifact=comp1.outputs[\"out_artifact\"],\n",
    "    ).set_display_name(\"Component2\")\n",
    "\n"
   ]
  },
  {
   "cell_type": "code",
   "execution_count": null,
   "id": "dccdf716-47d3-417b-8075-0247deea974b",
   "metadata": {},
   "outputs": [],
   "source": [
    "compiler.Compiler().compile(\n",
    "    pipeline_func=tmp_pipe, package_path=TEMPLATE_PATH\n",
    ")"
   ]
  },
  {
   "cell_type": "code",
   "execution_count": null,
   "id": "c6f9b070-f001-43a1-8b41-6231ac334179",
   "metadata": {},
   "outputs": [],
   "source": [
    "aiplatform.init(project=PROJECT_ID, staging_bucket=PIPELINE_ROOT)"
   ]
  },
  {
   "cell_type": "code",
   "execution_count": null,
   "id": "81a75617-dc19-4d75-b73a-cae1478e1312",
   "metadata": {},
   "outputs": [],
   "source": [
    "TIMESTAMP = datetime.now().strftime(\"%Y%m%d%H%M%S\")\n",
    "JOBID = f\"training-pipeline-{TIMESTAMP}\"\n",
    "\n",
    "# Pipeline job\n",
    "pipeline_ = aiplatform.pipeline_jobs.PipelineJob(\n",
    "    enable_caching=ENABLE_CACHING,\n",
    "    display_name=PIPELINE_NAME,\n",
    "    template_path=TEMPLATE_PATH,\n",
    "    job_id=JOBID,\n",
    "    parameter_values=PIPELINE_PARAMS,\n",
    ")\n",
    "# Submit\n",
    "pipeline_.submit(service_account=SERVICE_ACCOUNT)"
   ]
  },
  {
   "cell_type": "code",
   "execution_count": null,
   "id": "4342b057-f22e-484f-bfe3-609a55c670c5",
   "metadata": {},
   "outputs": [],
   "source": []
  }
 ],
 "metadata": {
  "kernelspec": {
   "display_name": "Python 3 (ipykernel)",
   "language": "python",
   "name": "python3"
  },
  "language_info": {
   "codemirror_mode": {
    "name": "ipython",
    "version": 3
   },
   "file_extension": ".py",
   "mimetype": "text/x-python",
   "name": "python",
   "nbconvert_exporter": "python",
   "pygments_lexer": "ipython3",
   "version": "3.10.10"
  }
 },
 "nbformat": 4,
 "nbformat_minor": 5
}
