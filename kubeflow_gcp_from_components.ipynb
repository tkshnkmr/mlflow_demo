{
 "cells": [
  {
   "cell_type": "markdown",
   "id": "b860f5ed-6b1b-4d91-88a3-578de58d5c34",
   "metadata": {
    "tags": []
   },
   "source": [
    "## A simple Vertex AI pipeline demo\n",
    "- Cont. demo2\n",
    "- Component based solution"
   ]
  },
  {
   "cell_type": "markdown",
   "id": "0139062b-5c11-42da-8d2a-e5274c66b524",
   "metadata": {},
   "source": [
    "### Import package"
   ]
  },
  {
   "cell_type": "code",
   "execution_count": null,
   "id": "a78f4a07-3c2d-424a-8f9e-44b4a51adb37",
   "metadata": {
    "tags": []
   },
   "outputs": [],
   "source": [
    "import os\n",
    "from pathlib import Path\n",
    "import requests\n",
    "from datetime import datetime\n",
    "\n",
    "import kfp\n",
    "\n",
    "from kfp.v2.dsl import pipeline\n",
    "from kfp.v2 import compiler\n",
    "\n",
    "import google.cloud.aiplatform as aiplatform\n"
   ]
  },
  {
   "cell_type": "markdown",
   "id": "df693b97-4965-4f1a-b073-adf8cd93ddc6",
   "metadata": {
    "tags": []
   },
   "source": [
    "### Parameters for GCP and kubeflow"
   ]
  },
  {
   "cell_type": "code",
   "execution_count": null,
   "id": "9482f1cd-48f7-465e-a575-f3b3b7fe3d19",
   "metadata": {},
   "outputs": [],
   "source": [
    "# NOTE: it's not the best practice\n",
    "os.environ[\"GOOGLE_APPLICATION_CREDENTIALS\"] = \"\"  # Your service credentials (assume json)\n",
    "PROJECT_ID = \"\"  # Your project id\n",
    "SERVICE_ACCOUNT = \"\"  # assume XXXX@YYYYY.iam.gserviceaccount.com\n",
    "CSV_FILE_BUCKET_NAME = \"\"  # bucket name"
   ]
  },
  {
   "cell_type": "code",
   "execution_count": null,
   "id": "a993bd2f-6ef9-444b-a6e8-3e255f261354",
   "metadata": {
    "tags": []
   },
   "outputs": [],
   "source": []
  },
  {
   "cell_type": "code",
   "execution_count": null,
   "id": "5f4237b0-58fc-43fa-86a0-93d1c00c4ff6",
   "metadata": {
    "tags": []
   },
   "outputs": [],
   "source": [
    "# Cache pipeline results to avoid compute the same components for different runs\n",
    "ENABLE_CACHING = False\n",
    "\n",
    "PIPELINE_NAME = \"my-kfp-on-gcp-demo-container-based\"\n",
    "# Your Kubeflow's detail\n",
    "TEMPLATE_PATH = \"ml_pipeline_from_containerised_components.json\"\n",
    "# GCS Bucket to store artefacts\n",
    "PIPELINE_ROOT = f\"gs://kfp-demo-bucket-{PROJECT_ID}\"\n",
    "\n",
    "# Params for ML\n",
    "MODEL_FEATURE_LS = [\n",
    "    \"OverallQual\",\n",
    "    \"GrLivArea\",\n",
    "    \"GarageCars\",\n",
    "    \"GarageArea\",\n",
    "    \"TotalBsmtSF\",\n",
    "    \"1stFlrSF\",\n",
    "    \"FullBath\",\n",
    "    \"TotRmsAbvGrd\",\n",
    "    \"YearBuilt\",\n",
    "    \"BsmtUnfSF_TotalBsmtSF_ratio\",\n",
    "]\n",
    "MODEL_LABEL = \"SalePrice\"\n",
    "MODEL_HYPER_PARAM = {\"alpha\": [0.9, 0.95, 1], \"l1_ratio\": [0.45, 0.5, 0.55]}\n",
    "\n",
    "# Model serving param\n",
    "BASE_CONTAINER_IMG = \"us-docker.pkg.dev/vertex-ai/prediction/sklearn-cpu.1-0:latest\"\n",
    "ENDPOINT_MACHINE_TYPE = \"n1-standard-4\"\n",
    "ENDPOINT_MODEL_NAME = \"my_kf_elasticnet_model_from_component\"\n",
    "\n",
    "# NB: these parameters must be added for your pipeline's args\n",
    "PIPELINE_PARAMS = {\n",
    "    \"project_id\": PROJECT_ID,\n",
    "    \"original_bucket_id\": CSV_FILE_BUCKET_NAME,\n",
    "    \"target_train_filename\": \"train.csv\",\n",
    "    \"target_test_filename\": \"test.csv\",\n",
    "    \"datasplit_seed\": 10,\n",
    "    \"selected_features\": MODEL_FEATURE_LS,\n",
    "    \"selected_label\": MODEL_LABEL,\n",
    "    \"my_hyper_params_dict\": MODEL_HYPER_PARAM,\n",
    "    \"serving_container_image_uri\": BASE_CONTAINER_IMG,\n",
    "    \"endpoint_machine_type\": ENDPOINT_MACHINE_TYPE,\n",
    "    \"endpoint_model_name\": ENDPOINT_MODEL_NAME,\n",
    "}"
   ]
  },
  {
   "cell_type": "markdown",
   "id": "1e043ef6-bb7c-45a0-932d-d4a5408fd66b",
   "metadata": {
    "tags": []
   },
   "source": [
    "### 1. Load components"
   ]
  },
  {
   "cell_type": "code",
   "execution_count": null,
   "id": "4dab90cb-2501-40ea-ae91-5c8f3db020bf",
   "metadata": {
    "tags": []
   },
   "outputs": [],
   "source": [
    "#Load the component\n",
    "preprocess_op = kfp.components.load_component_from_file('component_based/preprocess/component.yaml')\n",
    "train_op = kfp.components.load_component_from_file('component_based/train/component.yaml')\n",
    "eval_op = kfp.components.load_component_from_file('component_based/eval/component.yaml')\n",
    "deploy_op = kfp.components.load_component_from_file('component_based/deploy/component.yaml')"
   ]
  },
  {
   "cell_type": "markdown",
   "id": "55072068-671b-464b-84ad-243b5bd5d3cc",
   "metadata": {
    "tags": []
   },
   "source": [
    "### 2. Create a pipeline"
   ]
  },
  {
   "cell_type": "code",
   "execution_count": null,
   "id": "1cf7fc51-cfdc-45d9-a98b-f44ad68423aa",
   "metadata": {
    "tags": []
   },
   "outputs": [],
   "source": [
    "# Define a pipeline and create a task from a component:\n",
    "@pipeline(name=PIPELINE_NAME, pipeline_root=PIPELINE_ROOT)\n",
    "def tmp_pipe(\n",
    "    project_id: str,\n",
    "    original_bucket_id: str,\n",
    "    target_train_filename: str,\n",
    "    target_test_filename: str,\n",
    "    datasplit_seed: int,\n",
    "    selected_features: list,\n",
    "    selected_label: str,\n",
    "    my_hyper_params_dict: dict,\n",
    "    serving_container_image_uri: str,\n",
    "    endpoint_model_name: str,\n",
    "    endpoint_machine_type: str,\n",
    "):\n",
    "    train_preprocess = preprocess_op(\n",
    "        project_id=project_id,\n",
    "        original_bucket_id=original_bucket_id,\n",
    "        target_filename=target_train_filename,\n",
    "    ).set_display_name(\"Preprocess train data\")\n",
    "\n",
    "    test_preprocess = preprocess_op(\n",
    "        project_id=project_id,\n",
    "        original_bucket_id=original_bucket_id,\n",
    "        target_filename=target_test_filename,\n",
    "    ).set_display_name(\"Preprocess test data\")\n",
    "    \n",
    "    train_model = train_op(\n",
    "        input_dataset=train_preprocess.outputs[\"output_dataset\"],\n",
    "        datasplit_seed=datasplit_seed,\n",
    "        selected_features=selected_features,\n",
    "        selected_label=selected_label,\n",
    "        my_hyper_params_dict=my_hyper_params_dict,\n",
    "    ).set_display_name(\"Train model\")\n",
    "    \n",
    "    evaluation_model = eval_op(\n",
    "        input_dataset=test_preprocess.outputs[\"output_dataset\"],\n",
    "        selected_features=selected_features,\n",
    "        model=train_model.outputs[\"model\"],\n",
    "    ).set_display_name(\"Model evaluation\")\n",
    "    \n",
    "    deploy_model = deploy_op(\n",
    "        project_id=project_id,\n",
    "        model=train_model.outputs[\"model\"],\n",
    "        serving_container_image_uri=serving_container_image_uri,\n",
    "        endpoint_model_name=endpoint_model_name,\n",
    "        endpoint_machine_type=endpoint_machine_type,\n",
    "        model_deployment_flag=evaluation_model.outputs[\"model_deployment_flag\"],\n",
    "    ).set_display_name(\"Deploy model to endpoint\")"
   ]
  },
  {
   "cell_type": "code",
   "execution_count": null,
   "id": "ef8a65bf-1d67-4722-8e15-1b151c2a6608",
   "metadata": {
    "tags": []
   },
   "outputs": [],
   "source": [
    "compiler.Compiler().compile(\n",
    "    pipeline_func=tmp_pipe, package_path=TEMPLATE_PATH\n",
    ")"
   ]
  },
  {
   "cell_type": "markdown",
   "id": "3476690a-21f1-4737-972a-500ed14e6608",
   "metadata": {},
   "source": [
    "### 3. Deploy to endpoint"
   ]
  },
  {
   "cell_type": "code",
   "execution_count": null,
   "id": "27fa3d82-80b6-4db3-a0c2-a55922713212",
   "metadata": {
    "tags": []
   },
   "outputs": [],
   "source": [
    "aiplatform.init(project=PROJECT_ID, staging_bucket=PIPELINE_ROOT)"
   ]
  },
  {
   "cell_type": "code",
   "execution_count": null,
   "id": "a96fef73-483d-47ef-9bb2-49d7b2c938fa",
   "metadata": {
    "tags": []
   },
   "outputs": [],
   "source": [
    "TIMESTAMP = datetime.now().strftime(\"%Y%m%d%H%M%S\")\n",
    "JOBID = f\"training-pipeline-{TIMESTAMP}\"\n",
    "\n",
    "# Pipeline job\n",
    "pipeline_ = aiplatform.pipeline_jobs.PipelineJob(\n",
    "    enable_caching=ENABLE_CACHING,\n",
    "    display_name=PIPELINE_NAME,\n",
    "    template_path=TEMPLATE_PATH,\n",
    "    job_id=JOBID,\n",
    "    parameter_values=PIPELINE_PARAMS,\n",
    ")\n",
    "# Submit\n",
    "pipeline_.submit(service_account=SERVICE_ACCOUNT)"
   ]
  },
  {
   "cell_type": "code",
   "execution_count": null,
   "id": "00a0148d-ed42-4a7e-be66-0bad0b3beb6b",
   "metadata": {},
   "outputs": [],
   "source": [
    "raise"
   ]
  },
  {
   "cell_type": "markdown",
   "id": "7a902cd7-a60c-4212-a629-1f04fc8134a9",
   "metadata": {},
   "source": [
    "### 4. Prediction (request to the endpoint)\n",
    "- Wait 10-15 minutes until the endpoint is ready"
   ]
  },
  {
   "cell_type": "code",
   "execution_count": null,
   "id": "eafe5522-ff04-4896-a184-d7e58ce3cf5e",
   "metadata": {
    "tags": []
   },
   "outputs": [],
   "source": [
    "# Update the endpoint location\n",
    "vertex_ai_model_endpoint = \"projects/YOUR_PROEJCT_NUMBER/locations/us-central1/endpoints/ENDPOINT_NUMBER\"\n",
    "endpoint = aiplatform.Endpoint(vertex_ai_model_endpoint)"
   ]
  },
  {
   "cell_type": "code",
   "execution_count": null,
   "id": "bca7da4c-6419-42fd-9680-37db47f8f6d3",
   "metadata": {
    "tags": []
   },
   "outputs": [],
   "source": [
    "# Test the endpoint\n",
    "import pandas as pd\n",
    "import numpy as np\n",
    "\n",
    "# Get some values from the train\n",
    "df = pd.read_csv(\"house-prices-advanced-regression-techniques/train.csv\")\n",
    "\n",
    "df_mod = df[\n",
    "    [\n",
    "        \"OverallQual\",\n",
    "        \"GrLivArea\",\n",
    "        \"GarageCars\",\n",
    "        \"GarageArea\",\n",
    "        \"TotalBsmtSF\",\n",
    "        \"1stFlrSF\",\n",
    "        \"FullBath\",\n",
    "        \"TotRmsAbvGrd\",\n",
    "        \"YearBuilt\",\n",
    "        \"SalePrice\",\n",
    "    ]\n",
    "]\n",
    "\n",
    "df_mod.loc[[0, 4, 100]]"
   ]
  },
  {
   "cell_type": "code",
   "execution_count": null,
   "id": "31ea2476-737b-44b8-bc5c-1f947cd2fe26",
   "metadata": {
    "tags": []
   },
   "outputs": [],
   "source": [
    "# Sample input (NB: added 0.5 value at the end - feature engineered value)\n",
    "input_instance = [\n",
    "    [7, 1710, 2, 548, 856, 856, 2, 8, 2003, 0.5],\n",
    "    [8, 2198, 3, 836, 1145, 1145, 2, 9, 2000, 0.5],\n",
    "    [6, 1610, 2, 480, 1610, 1610, 2, 6, 1977, 0.5],\n",
    "]\n",
    "\n",
    "endpoint.predict(instances=input_instance)"
   ]
  },
  {
   "cell_type": "code",
   "execution_count": null,
   "id": "20655dd1-b332-44d8-aaee-70f44b772577",
   "metadata": {},
   "outputs": [],
   "source": []
  }
 ],
 "metadata": {
  "kernelspec": {
   "display_name": "Python 3 (ipykernel)",
   "language": "python",
   "name": "python3"
  },
  "language_info": {
   "codemirror_mode": {
    "name": "ipython",
    "version": 3
   },
   "file_extension": ".py",
   "mimetype": "text/x-python",
   "name": "python",
   "nbconvert_exporter": "python",
   "pygments_lexer": "ipython3",
   "version": "3.10.10"
  }
 },
 "nbformat": 4,
 "nbformat_minor": 5
}
